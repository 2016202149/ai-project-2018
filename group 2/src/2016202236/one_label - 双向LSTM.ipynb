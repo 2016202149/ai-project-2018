{
 "cells": [
  {
   "cell_type": "code",
   "execution_count": 1,
   "metadata": {},
   "outputs": [
    {
     "name": "stderr",
     "output_type": "stream",
     "text": [
      "D:\\Anaconda3\\envs\\tensorflow\\lib\\site-packages\\sklearn\\ensemble\\weight_boosting.py:29: DeprecationWarning: numpy.core.umath_tests is an internal NumPy module and should not be imported. It will be removed in a future NumPy release.\n",
      "  from numpy.core.umath_tests import inner1d\n",
      "Using TensorFlow backend.\n"
     ]
    }
   ],
   "source": [
    "import os\n",
    "import sys\n",
    "import csv\n",
    "import wave\n",
    "import copy\n",
    "import math\n",
    "\n",
    "import numpy as np\n",
    "import pandas as pd\n",
    "\n",
    "from sklearn.preprocessing import label_binarize\n",
    "#from sklearn.cross_validation import StratifiedKFold, KFold, train_test_split\n",
    "from sklearn.model_selection import StratifiedKFold, KFold, train_test_split,GridSearchCV\n",
    "from sklearn.svm import OneClassSVM, SVC\n",
    "from sklearn.ensemble import RandomForestClassifier\n",
    "#from sklearn.grid_search import GridSearchCV\n",
    "from sklearn.manifold import TSNE\n",
    "from sklearn.decomposition import PCA\n",
    "from keras.callbacks import EarlyStopping \n",
    "from keras.models import Sequential, Model\n",
    "from keras.layers import Dense, Activation\n",
    "from keras.layers import merge as Merge\n",
    "from keras.layers import Masking, Embedding,Dropout\n",
    "from keras.layers import LSTM, Input, Bidirectional,BatchNormalization\n",
    "from keras.layers.wrappers import TimeDistributed\n",
    "from keras.optimizers import SGD, Adam, RMSprop\n",
    "\n",
    "sys.path.append(\"../\")\n",
    "from utilities.utils import *\n",
    "\n",
    "import matplotlib\n",
    "import matplotlib.pyplot as plt\n",
    "import matplotlib.ticker as ticker\n",
    "%matplotlib inline\n",
    "\n",
    "from IPython.display import clear_output"
   ]
  },
  {
   "cell_type": "code",
   "execution_count": 2,
   "metadata": {
    "collapsed": true
   },
   "outputs": [],
   "source": [
    "batch_size = 64\n",
    "nb_feat = 34\n",
    "nb_class = 4\n",
    "nb_epoch =20\n",
    "optimizer = 'Adadelta'"
   ]
  },
  {
   "cell_type": "code",
   "execution_count": 3,
   "metadata": {},
   "outputs": [
    {
     "name": "stdout",
     "output_type": "stream",
     "text": [
      "----------------------------------------------------------------------------------------------------\n",
      "available_emotions            ['baby' 'car' 'rain' 'sheep' 'siren']                                 \n",
      "conf_matrix_prefix            iemocap                                                               \n",
      "framerate                     16000                                                                 \n",
      "path_to_data                  E:\\IEMOCAP_full_release_withoutVideos\\IEMOCAP_full_release\\           \n",
      "path_to_features              C:\\Users\\yaolinli\\Desktop\\我爱学习-大三上\\SpokenLanguage\\emotion_recognition-\n",
      "path_to_txts                  C:\\Users\\yaolinli\\Desktop\\我爱学习-大三上\\SpokenLanguage\\emotion_recognition-\n",
      "path_to_wavs                  C:\\Users\\yaolinli\\Desktop\\我爱学习-大三上\\SpokenLanguage\\emotion_recognition-\n",
      "sessions                      ['Session1', 'Session2', 'Session3', 'Session4', 'Session5']          \n",
      "types                         {1: <class 'numpy.int8'>, 2: <class 'numpy.int16'>, 4: <class 'numpy.i\n",
      "----------------------------------------------------------------------------------------------------\n"
     ]
    }
   ],
   "source": [
    "params = Constants()\n",
    "params.path_to_features=r\"C:\\Users\\yaolinli\\Desktop\\我爱学习-大三上\\SpokenLanguage\\emotion_recognition-master\\data\\features_new\\total\\\\\"\n",
    "print(params)\n",
    "\n"
   ]
  },
  {
   "cell_type": "markdown",
   "metadata": {},
   "source": [
    "# Calculating features"
   ]
  },
  {
   "cell_type": "code",
   "execution_count": 4,
   "metadata": {},
   "outputs": [
    {
     "ename": "FileNotFoundError",
     "evalue": "[WinError 3] 系统找不到指定的路径。: 'E:\\\\IEMOCAP_full_release_withoutVideos\\\\IEMOCAP_full_release\\\\Session1/dialog/wav/'",
     "output_type": "error",
     "traceback": [
      "\u001b[1;31m---------------------------------------------------------------------------\u001b[0m",
      "\u001b[1;31mFileNotFoundError\u001b[0m                         Traceback (most recent call last)",
      "\u001b[1;32m<ipython-input-4-c429c44a9145>\u001b[0m in \u001b[0;36m<module>\u001b[1;34m()\u001b[0m\n\u001b[1;32m----> 1\u001b[1;33m \u001b[0mdata\u001b[0m \u001b[1;33m=\u001b[0m \u001b[0mread_iemocap_data\u001b[0m\u001b[1;33m(\u001b[0m\u001b[0mparams\u001b[0m\u001b[1;33m=\u001b[0m\u001b[0mparams\u001b[0m\u001b[1;33m)\u001b[0m\u001b[1;33m\u001b[0m\u001b[0m\n\u001b[0m",
      "\u001b[1;32m~\\Desktop\\我爱学习-大三上\\SpokenLanguage\\emotion_recognition-master\\code\\utilities\\utils.py\u001b[0m in \u001b[0;36mread_iemocap_data\u001b[1;34m(params)\u001b[0m\n\u001b[0;32m    170\u001b[0m         \u001b[0mpath_to_transcriptions\u001b[0m \u001b[1;33m=\u001b[0m \u001b[0mparams\u001b[0m\u001b[1;33m.\u001b[0m\u001b[0mpath_to_data\u001b[0m \u001b[1;33m+\u001b[0m \u001b[0msession\u001b[0m \u001b[1;33m+\u001b[0m \u001b[1;34m'/dialog/transcriptions/'\u001b[0m\u001b[1;33m\u001b[0m\u001b[0m\n\u001b[0;32m    171\u001b[0m \u001b[1;33m\u001b[0m\u001b[0m\n\u001b[1;32m--> 172\u001b[1;33m         \u001b[0mfiles\u001b[0m \u001b[1;33m=\u001b[0m \u001b[0mos\u001b[0m\u001b[1;33m.\u001b[0m\u001b[0mlistdir\u001b[0m\u001b[1;33m(\u001b[0m\u001b[0mpath_to_wav\u001b[0m\u001b[1;33m)\u001b[0m\u001b[1;31m#return a list of all files in the choosed way\u001b[0m\u001b[1;33m\u001b[0m\u001b[0m\n\u001b[0m\u001b[0;32m    173\u001b[0m         \u001b[0mfiles\u001b[0m \u001b[1;33m=\u001b[0m \u001b[1;33m[\u001b[0m\u001b[0mf\u001b[0m\u001b[1;33m[\u001b[0m\u001b[1;33m:\u001b[0m\u001b[1;33m-\u001b[0m\u001b[1;36m4\u001b[0m\u001b[1;33m]\u001b[0m \u001b[1;32mfor\u001b[0m \u001b[0mf\u001b[0m \u001b[1;32min\u001b[0m \u001b[0mfiles\u001b[0m \u001b[1;32mif\u001b[0m \u001b[0mf\u001b[0m\u001b[1;33m.\u001b[0m\u001b[0mendswith\u001b[0m\u001b[1;33m(\u001b[0m\u001b[1;34m\".wav\"\u001b[0m\u001b[1;33m)\u001b[0m\u001b[1;33m]\u001b[0m\u001b[1;33m\u001b[0m\u001b[0m\n\u001b[0;32m    174\u001b[0m         \u001b[1;32mfor\u001b[0m \u001b[0mf\u001b[0m \u001b[1;32min\u001b[0m \u001b[0mfiles\u001b[0m\u001b[1;33m:\u001b[0m\u001b[1;33m\u001b[0m\u001b[0m\n",
      "\u001b[1;31mFileNotFoundError\u001b[0m: [WinError 3] 系统找不到指定的路径。: 'E:\\\\IEMOCAP_full_release_withoutVideos\\\\IEMOCAP_full_release\\\\Session1/dialog/wav/'"
     ]
    }
   ],
   "source": [
    "data = read_iemocap_data(params=params)"
   ]
  },
  {
   "cell_type": "code",
   "execution_count": 5,
   "metadata": {},
   "outputs": [
    {
     "ename": "NameError",
     "evalue": "name 'data' is not defined",
     "output_type": "error",
     "traceback": [
      "\u001b[1;31m---------------------------------------------------------------------------\u001b[0m",
      "\u001b[1;31mNameError\u001b[0m                                 Traceback (most recent call last)",
      "\u001b[1;32m<ipython-input-5-97c409a3eee1>\u001b[0m in \u001b[0;36m<module>\u001b[1;34m()\u001b[0m\n\u001b[1;32m----> 1\u001b[1;33m \u001b[0mget_features\u001b[0m\u001b[1;33m(\u001b[0m\u001b[0mdata\u001b[0m\u001b[1;33m,\u001b[0m \u001b[0mparams\u001b[0m\u001b[1;33m)\u001b[0m\u001b[1;33m\u001b[0m\u001b[0m\n\u001b[0m",
      "\u001b[1;31mNameError\u001b[0m: name 'data' is not defined"
     ]
    }
   ],
   "source": [
    "get_features(data, params)"
   ]
  },
  {
   "cell_type": "markdown",
   "metadata": {},
   "source": [
    "# Data preparation"
   ]
  },
  {
   "cell_type": "code",
   "execution_count": 7,
   "metadata": {},
   "outputs": [
    {
     "name": "stdout",
     "output_type": "stream",
     "text": [
      "(200,)\n",
      "(200, 278, 34)\n",
      "(120, 278, 34)\n"
     ]
    }
   ],
   "source": [
    "X, y, valid_idxs = get_sample(ids=None, take_all=True,params= params)\n",
    "print(X.shape)\n",
    "y = to_categorical(y, params)\n",
    "idxs_train, idxs_test = train_test_split(range(X.shape[0]), test_size=0.4)\n",
    "X, _ = pad_sequence_into_array(X, maxlen=None,value = -1)\n",
    "print(X.shape)\n",
    "X_train, X_test = X[idxs_train], X[idxs_test]\n",
    "#X_train_mask, X_test_mask = X_mask[idxs_train], X_mask[idxs_test]\n",
    "y_train, y_test = y[idxs_train], y[idxs_test]\n",
    "#y_train_mask, y_test_mask = y_mask[idxs_train], y_mask[idxs_test]\n",
    "print(X_train.shape)"
   ]
  },
  {
   "cell_type": "markdown",
   "metadata": {},
   "source": [
    "# Model definition"
   ]
  },
  {
   "cell_type": "code",
   "execution_count": 58,
   "metadata": {
    "collapsed": true
   },
   "outputs": [],
   "source": [
    "batch_size = 64\n",
    "nb_feat = 34\n",
    "nb_class = 5\n",
    "optimizer = 'Adadelta'\n",
    "def build_simple_lstm(nb_feat, nb_class, optimizer='Adadelta'):\n",
    "    model = Sequential()\n",
    "    model.add(Masking(mask_value= -1,input_shape=(X_train.shape[1], nb_feat)))\n",
    "    model.add(Bidirectional(LSTM(128, return_sequences=False, input_shape=(X_train.shape[1], nb_feat))))#return_swquence 【】 改成true试试\n",
    "    model.add(Dropout(0.3))\n",
    "    model.add(BatchNormalization())\n",
    "    model.add(Dense(nb_class))\n",
    "    model.add(Activation('softmax'))\n",
    "    model.compile(loss='categorical_crossentropy', optimizer=optimizer, metrics=['accuracy'])\n",
    "    return model"
   ]
  },
  {
   "cell_type": "code",
   "execution_count": 59,
   "metadata": {
    "collapsed": true
   },
   "outputs": [],
   "source": [
    "def build_blstm(nb_feat, nb_class, optimizer='Adadelta'):#nb_feat是输入维数，nb_class是输出的类别\n",
    "    net_input = Input(shape=(278, nb_feat))\n",
    "    forward_lstm1  = LSTM(output_dim=64, \n",
    "                          return_sequences=True, \n",
    "                          activation=\"tanh\"\n",
    "                         )(net_input)\n",
    "    backward_lstm1 = LSTM(output_dim=64, \n",
    "                          return_sequences=True, \n",
    "                          activation=\"tanh\", \n",
    "                          go_backwards=True\n",
    "                         )(net_input)\n",
    "    blstm_output1  = Merge(mode='concat')([forward_lstm1, backward_lstm1])\n",
    "    \n",
    "    forward_lstm2  = LSTM(output_dim=64, \n",
    "                          return_sequences=False, \n",
    "                          activation=\"tanh\"\n",
    "                         )(blstm_output1)\n",
    "    backward_lstm2 = LSTM(output_dim=64, \n",
    "                          return_sequences=False, \n",
    "                          activation=\"tanh\", \n",
    "                          go_backwards=True\n",
    "                         )(blstm_output1)\n",
    "    blstm_output2  = Merge(mode='concat')([forward_lstm2, backward_lstm2])\n",
    "    hidden = Dense(256, activation='tanh')(blstm_output2)\n",
    "    output = Dense(nb_class, activation='softmax')(hidden)\n",
    "    model  = Model(net_input, output)\n",
    "    \n",
    "    model.compile(loss=\"categorical_crossentropy\", optimizer=optimizer, metrics=['accuracy'])\n",
    "    \n",
    "    return model"
   ]
  },
  {
   "cell_type": "markdown",
   "metadata": {},
   "source": [
    "# Model building"
   ]
  },
  {
   "cell_type": "code",
   "execution_count": 62,
   "metadata": {},
   "outputs": [
    {
     "name": "stdout",
     "output_type": "stream",
     "text": [
      "_________________________________________________________________\n",
      "Layer (type)                 Output Shape              Param #   \n",
      "=================================================================\n",
      "masking_12 (Masking)         (None, 278, 34)           0         \n",
      "_________________________________________________________________\n",
      "bidirectional_12 (Bidirectio (None, 256)               166912    \n",
      "_________________________________________________________________\n",
      "dropout_12 (Dropout)         (None, 256)               0         \n",
      "_________________________________________________________________\n",
      "batch_normalization_12 (Batc (None, 256)               1024      \n",
      "_________________________________________________________________\n",
      "dense_12 (Dense)             (None, 5)                 1285      \n",
      "_________________________________________________________________\n",
      "activation_12 (Activation)   (None, 5)                 0         \n",
      "=================================================================\n",
      "Total params: 169,221\n",
      "Trainable params: 168,709\n",
      "Non-trainable params: 512\n",
      "_________________________________________________________________\n"
     ]
    }
   ],
   "source": [
    "#model = build_model()\n",
    "model=build_simple_lstm(34,5)\n",
    "model.summary()"
   ]
  },
  {
   "cell_type": "markdown",
   "metadata": {},
   "source": [
    "# Training"
   ]
  },
  {
   "cell_type": "code",
   "execution_count": 63,
   "metadata": {
    "scrolled": false
   },
   "outputs": [
    {
     "name": "stderr",
     "output_type": "stream",
     "text": [
      "D:\\Anaconda3\\envs\\tensorflow\\lib\\site-packages\\ipykernel_launcher.py:6: UserWarning: The `nb_epoch` argument in `fit` has been renamed `epochs`.\n",
      "  \n"
     ]
    },
    {
     "name": "stdout",
     "output_type": "stream",
     "text": [
      "Train on 120 samples, validate on 80 samples\n",
      "Epoch 1/20\n",
      "120/120 [==============================] - 22s 182ms/step - loss: 1.7340 - acc: 0.3167 - val_loss: 1.3200 - val_acc: 0.4500\n",
      "Epoch 2/20\n",
      "120/120 [==============================] - 14s 117ms/step - loss: 1.6799 - acc: 0.4167 - val_loss: 1.2667 - val_acc: 0.4750\n",
      "Epoch 3/20\n",
      "120/120 [==============================] - 18s 146ms/step - loss: 1.5166 - acc: 0.4083 - val_loss: 1.3418 - val_acc: 0.4500\n",
      "Epoch 4/20\n",
      "120/120 [==============================] - 14s 113ms/step - loss: 1.4071 - acc: 0.4417 - val_loss: 1.1994 - val_acc: 0.5000\n",
      "Epoch 5/20\n",
      "120/120 [==============================] - 14s 115ms/step - loss: 1.2351 - acc: 0.4250 - val_loss: 1.1868 - val_acc: 0.4875\n",
      "Epoch 6/20\n",
      "120/120 [==============================] - 13s 110ms/step - loss: 1.3074 - acc: 0.4583 - val_loss: 1.4069 - val_acc: 0.4125\n",
      "Epoch 7/20\n",
      "120/120 [==============================] - 13s 112ms/step - loss: 1.1793 - acc: 0.5583 - val_loss: 1.0088 - val_acc: 0.5750\n",
      "Epoch 8/20\n",
      "120/120 [==============================] - 14s 120ms/step - loss: 1.1924 - acc: 0.5417 - val_loss: 0.9432 - val_acc: 0.6625\n",
      "Epoch 9/20\n",
      "120/120 [==============================] - 14s 119ms/step - loss: 0.9506 - acc: 0.6333 - val_loss: 0.9778 - val_acc: 0.6500\n",
      "Epoch 10/20\n",
      "120/120 [==============================] - 17s 140ms/step - loss: 1.0196 - acc: 0.6417 - val_loss: 1.2560 - val_acc: 0.5125\n",
      "Epoch 11/20\n",
      "120/120 [==============================] - 15s 123ms/step - loss: 0.8703 - acc: 0.7250 - val_loss: 1.2740 - val_acc: 0.5125\n",
      "Epoch 12/20\n",
      "120/120 [==============================] - 14s 114ms/step - loss: 0.9568 - acc: 0.6333 - val_loss: 1.1092 - val_acc: 0.6000\n",
      "Epoch 13/20\n",
      "120/120 [==============================] - 13s 112ms/step - loss: 0.9289 - acc: 0.6333 - val_loss: 1.0195 - val_acc: 0.5500\n",
      "Epoch 14/20\n",
      "120/120 [==============================] - 14s 113ms/step - loss: 0.7831 - acc: 0.6917 - val_loss: 1.0039 - val_acc: 0.6250\n",
      "Epoch 15/20\n",
      "120/120 [==============================] - 13s 111ms/step - loss: 0.8116 - acc: 0.7000 - val_loss: 0.9919 - val_acc: 0.6375\n",
      "Epoch 16/20\n",
      "120/120 [==============================] - 14s 115ms/step - loss: 0.9076 - acc: 0.7000 - val_loss: 1.0011 - val_acc: 0.5875\n"
     ]
    }
   ],
   "source": [
    "nb_epoch = 20\n",
    "\n",
    "early_stopping =EarlyStopping(monitor='val_loss', patience=8) \n",
    "hist = model.fit(X_train, y_train, \n",
    "                 batch_size=batch_size, nb_epoch=nb_epoch, verbose=1, callbacks=[early_stopping],\n",
    "                 validation_data=(X_test, y_test))"
   ]
  },
  {
   "cell_type": "markdown",
   "metadata": {},
   "source": [
    "# PRINT"
   ]
  },
  {
   "cell_type": "code",
   "execution_count": 64,
   "metadata": {},
   "outputs": [
    {
     "data": {
      "image/png": "[encoded data removed]",
      "text/plain": [
       "<matplotlib.figure.Figure at 0x24832f604e0>"
      ]
     },
     "metadata": {},
     "output_type": "display_data"
    }
   ],
   "source": [
    "plt.plot(hist.history['loss'], label='train')\n",
    "plt.plot(hist.history['val_loss'], label='test')\n",
    "plt.legend()\n",
    "plt.show()"
   ]
  },
  {
   "cell_type": "code",
   "execution_count": 10,
   "metadata": {
    "collapsed": true
   },
   "outputs": [],
   "source": [
    "from keras.models import load_model\n",
    " \n"
   ]
  },
  {
   "cell_type": "code",
   "execution_count": 11,
   "metadata": {
    "collapsed": true
   },
   "outputs": [],
   "source": [
    " model.save('model_4classes_双向lstm_256D_0.54_16epches_改进特征向量.h5')"
   ]
  },
  {
   "cell_type": "code",
   "execution_count": 1,
   "metadata": {},
   "outputs": [
    {
     "ename": "NameError",
     "evalue": "name 'model' is not defined",
     "output_type": "error",
     "traceback": [
      "\u001b[1;31m---------------------------------------------------------------------------\u001b[0m",
      "\u001b[1;31mNameError\u001b[0m                                 Traceback (most recent call last)",
      "\u001b[1;32m<ipython-input-1-d2330987906c>\u001b[0m in \u001b[0;36m<module>\u001b[1;34m()\u001b[0m\n\u001b[0;32m      1\u001b[0m \u001b[1;33m\u001b[0m\u001b[0m\n\u001b[1;32m----> 2\u001b[1;33m \u001b[0mscore\u001b[0m \u001b[1;33m=\u001b[0m \u001b[0mmodel\u001b[0m\u001b[1;33m.\u001b[0m\u001b[0mevaluate\u001b[0m\u001b[1;33m(\u001b[0m\u001b[0mx_test\u001b[0m\u001b[1;33m,\u001b[0m \u001b[0my_test\u001b[0m\u001b[1;33m,\u001b[0m \u001b[0mverbose\u001b[0m\u001b[1;33m=\u001b[0m\u001b[1;36m0\u001b[0m\u001b[1;33m)\u001b[0m\u001b[1;33m\u001b[0m\u001b[0m\n\u001b[0m",
      "\u001b[1;31mNameError\u001b[0m: name 'model' is not defined"
     ]
    }
   ],
   "source": [
    "\n"
   ]
  },
  {
   "cell_type": "code",
   "execution_count": null,
   "metadata": {
    "collapsed": true
   },
   "outputs": [],
   "source": []
  }
 ],
 "metadata": {
  "anaconda-cloud": {},
  "kernelspec": {
   "display_name": "Python 3",
   "language": "python",
   "name": "python3"
  },
  "language_info": {
   "codemirror_mode": {
    "name": "ipython",
    "version": 3
   },
   "file_extension": ".py",
   "mimetype": "text/x-python",
   "name": "python",
   "nbconvert_exporter": "python",
   "pygments_lexer": "ipython3",
   "version": "3.6.2"
  }
 },
 "nbformat": 4,
 "nbformat_minor": 1
}
