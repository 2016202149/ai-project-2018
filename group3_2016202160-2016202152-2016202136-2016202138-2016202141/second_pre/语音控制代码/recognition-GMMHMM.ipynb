{
 "cells": [
  {
   "cell_type": "code",
   "execution_count": 1,
   "metadata": {},
   "outputs": [],
   "source": [
    "from python_speech_features import mfcc\n",
    "import librosa\n",
    "from hmmlearn import hmm\n",
    "from sklearn.externals import joblib\n",
    "import numpy as np\n",
    "import os"
   ]
  },
  {
   "cell_type": "code",
   "execution_count": 14,
   "metadata": {},
   "outputs": [],
   "source": [
    "# 录制wav，时长s\n",
    "def recordWav(name):\n",
    "    # 参数定义\n",
    "    CHUNK = 1024\n",
    "    FORMAT = pyaudio.paInt16\n",
    "    CHANNELS = 1  # 声道数\n",
    "    RATE = 16000  # 采样率\n",
    "    RECORD_SECONDS = 1.5  # 录制时长\n",
    "    WAVE_OUTPUT_FILENAME = name\n",
    "\n",
    "    p = pyaudio.PyAudio()\n",
    "    stream = p.open(format=FORMAT, channels=CHANNELS, rate=RATE, input=True, frames_per_buffer=CHUNK)\n",
    "\n",
    "    print('* recording')\n",
    "    frames = []\n",
    "    for i in range(0, int(RATE / CHUNK * RECORD_SECONDS)):\n",
    "        data = stream.read(CHUNK)\n",
    "        frames.append(data)\n",
    "\n",
    "    print('* done recording')\n",
    "    stream.stop_stream()\n",
    "    stream.close()\n",
    "    p.terminate()\n",
    "\n",
    "    print('* save recording')\n",
    "    wf = wave.open(WAVE_OUTPUT_FILENAME, 'wb')\n",
    "    wf.setnchannels(CHANNELS)\n",
    "    wf.setsampwidth(p.get_sample_size(FORMAT))\n",
    "    wf.setframerate(RATE)\n",
    "    wf.writeframes(b''.join(frames))\n",
    "    wf.close()\n",
    "    \n",
    "def getList(path):\n",
    "    wavdict = {}\n",
    "    labeldict = {}\n",
    "    for (dirpath, dirnames, filenames) in os.walk(path):\n",
    "        print(filenames)\n",
    "        for filename in filenames:\n",
    "            fileid = filename.strip('.wav')\n",
    "            wavdict[fileid] = os.sep.join([dirpath, filename])\n",
    "            labeldict[fileid] = fileid.split('_')[1]\n",
    "    return wavdict, labeldict"
   ]
  },
  {
   "cell_type": "code",
   "execution_count": 3,
   "metadata": {},
   "outputs": [],
   "source": [
    "class Model():\n",
    "    # 初始化\n",
    "    def __init__(self, CATEGORY, n_components=3, n_mix = 3, covariance_type='diag', n_iter=1000):\n",
    "        super(Model, self).__init__()\n",
    "        self.CATEGORY = CATEGORY\n",
    "        self.category = len(CATEGORY)\n",
    "        \n",
    "        self.n_components = n_components\n",
    "        self.n_mix = n_mix\n",
    "        self.covariance_type = covariance_type\n",
    "        self.n_iter = n_iter\n",
    "\n",
    "        self.models = []\n",
    "        for k in range(self.category):\n",
    "            model = hmm.GMMHMM(n_components=self.n_components, n_mix = self.n_mix, covariance_type=self.covariance_type, n_iter=self.n_iter)\n",
    "            self.models.append(model)\n",
    "\n",
    "    # 训练\n",
    "    def train(self, wavdict, labeldict):\n",
    "        for k in range(self.category):\n",
    "            model = self.models[k]\n",
    "            for x in wavdict:\n",
    "                if labeldict[x] == self.CATEGORY[k]:\n",
    "                    y, sr = librosa.load(wavdict[x], sr=16000)\n",
    "                    X = mfcc(y, samplerate=16000, numcep=26)\n",
    "                    model.fit(X)\n",
    "\n",
    "    # 测试\n",
    "    def test(self, wav):\n",
    "        X = mfcc(wav, samplerate=16000, numcep=26)\n",
    "        result = []\n",
    "        for k in range(self.category):\n",
    "            model = self.models[k]\n",
    "            re = model.score(X)\n",
    "            result.append(re)\n",
    "        return np.argmax(result)\n",
    "    \n",
    "    # 保存\n",
    "    def save(self, path=\"models.pkl\"):\n",
    "        joblib.dump(self.models, path)\n",
    "\n",
    "    # 加载\n",
    "    def load(self, path=\"models.pkl\"):\n",
    "        self.models = joblib.load(path)"
   ]
  },
  {
   "cell_type": "code",
   "execution_count": 8,
   "metadata": {},
   "outputs": [
    {
     "name": "stdout",
     "output_type": "stream",
     "text": [
      "[]\n",
      "['1_back.wav', '2_back.wav', '3_back.wav', '4_back.wav', '5_back.wav']\n",
      "['1_go.wav', '2_go.wav', '3_go.wav', '4_go.wav', '5_go.wav']\n",
      "['1_left.wav', '2_left.wav', '3_left.wav', '4_left.wav', '5_left.wav']\n",
      "['1_right.wav', '2_right.wav', '3_right.wav', '4_right.wav', '5_right.wav']\n",
      "['1_stop.wav', '2_stop.wav', '3_stop.wav', '4_stop.wav', '5_stop.wav']\n"
     ]
    }
   ],
   "source": [
    "wavdict, labeldict = getList('records')\n",
    "\n",
    "CATEGORY = ['back', 'go', 'left', 'right', 'stop']\n",
    "models = Model(CATEGORY=CATEGORY)\n",
    "\n",
    "models.train(wavdict=wavdict, labeldict=labeldict)\n",
    "models.save()"
   ]
  },
  {
   "cell_type": "code",
   "execution_count": null,
   "metadata": {},
   "outputs": [],
   "source": [
    "import serial\n",
    "ser = serial.Serial('COM6', 9600)"
   ]
  },
  {
   "cell_type": "code",
   "execution_count": null,
   "metadata": {},
   "outputs": [],
   "source": [
    "command = ['b', 'f', 'l', 'r', 's']"
   ]
  },
  {
   "cell_type": "code",
   "execution_count": null,
   "metadata": {},
   "outputs": [],
   "source": [
    "models.load()"
   ]
  },
  {
   "cell_type": "code",
   "execution_count": 13,
   "metadata": {},
   "outputs": [
    {
     "name": "stdout",
     "output_type": "stream",
     "text": [
      "s\n"
     ]
    }
   ],
   "source": [
    "name = 'records\\\\stop\\\\5_stop.wav'\n",
    "\n",
    "recordWav(name)\n",
    "y, sr = librosa.load(name, sr=16000)\n",
    "\n",
    "rst = models.test(wav=y)\n",
    "print(command[rst])\n",
    "ser.write(command[rst].encode())"
   ]
  },
  {
   "cell_type": "code",
   "execution_count": null,
   "metadata": {},
   "outputs": [],
   "source": []
  }
 ],
 "metadata": {
  "kernelspec": {
   "display_name": "Python 3",
   "language": "python",
   "name": "python3"
  },
  "language_info": {
   "codemirror_mode": {
    "name": "ipython",
    "version": 3
   },
   "file_extension": ".py",
   "mimetype": "text/x-python",
   "name": "python",
   "nbconvert_exporter": "python",
   "pygments_lexer": "ipython3",
   "version": "3.6.5"
  }
 },
 "nbformat": 4,
 "nbformat_minor": 2
}
