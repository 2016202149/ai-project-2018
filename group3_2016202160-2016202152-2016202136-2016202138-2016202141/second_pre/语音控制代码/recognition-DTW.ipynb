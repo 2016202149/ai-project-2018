{
 "cells": [
  {
   "cell_type": "code",
   "execution_count": 5,
   "metadata": {},
   "outputs": [],
   "source": [
    "import librosa\n",
    "import numpy as np\n",
    "from numpy import inf, argmin\n",
    "import math\n",
    "import wave\n",
    "import pyaudio\n",
    "from scipy.spatial.distance import pdist\n",
    "import pylab as pl"
   ]
  },
  {
   "cell_type": "code",
   "execution_count": 6,
   "metadata": {},
   "outputs": [],
   "source": [
    "# 读取wav，返回采样值y\n",
    "def readWav(path):\n",
    "    y, sr = librosa.load(path, sr=16000)\n",
    "    return y\n",
    "\n",
    "# 录制wav，时长s\n",
    "def recordWav(name):\n",
    "    # 参数定义\n",
    "    CHUNK = 1024\n",
    "    FORMAT = pyaudio.paInt16\n",
    "    CHANNELS = 1  # 声道数\n",
    "    RATE = 16000  # 采样率\n",
    "    RECORD_SECONDS = 1.5  # 录制时长\n",
    "    WAVE_OUTPUT_FILENAME = name\n",
    "\n",
    "    p = pyaudio.PyAudio()\n",
    "    stream = p.open(format=FORMAT, channels=CHANNELS, rate=RATE, input=True, frames_per_buffer=CHUNK)\n",
    "\n",
    "    print('* recording')\n",
    "    frames = []\n",
    "    for i in range(0, int(RATE / CHUNK * RECORD_SECONDS)):\n",
    "        data = stream.read(CHUNK)\n",
    "        frames.append(data)\n",
    "\n",
    "    print('* done recording')\n",
    "    stream.stop_stream()\n",
    "    stream.close()\n",
    "    p.terminate()\n",
    "\n",
    "    print('* save recording')\n",
    "    wf = wave.open(WAVE_OUTPUT_FILENAME, 'wb')\n",
    "    wf.setnchannels(CHANNELS)\n",
    "    wf.setsampwidth(p.get_sample_size(FORMAT))\n",
    "    wf.setframerate(RATE)\n",
    "    wf.writeframes(b''.join(frames))\n",
    "    wf.close()"
   ]
  },
  {
   "cell_type": "code",
   "execution_count": 7,
   "metadata": {},
   "outputs": [],
   "source": [
    "def preProcess(wave_data, wave_len, framesize, overlap):\n",
    "    # 步长\n",
    "    step = framesize - overlap\n",
    "    # 帧数\n",
    "    frame_num = int(math.ceil(wave_len * 1.0 / step))\n",
    "    # 归一化\n",
    "    wave_tmp = wave_data.copy()\n",
    "    wave_tmp = wave_tmp * 1.0 / max(abs(wave_tmp))\n",
    "    # 计算音量\n",
    "    volume = np.zeros((frame_num, 1))\n",
    "    for i in range(frame_num):\n",
    "        # 取段\n",
    "        cur_frame = wave_tmp[np.arange(i * step, min(i * step + framesize, wave_len))]\n",
    "        # zero-justified\n",
    "        cur_frame = cur_frame - np.median(cur_frame)\n",
    "        # volume = sigma(1,n)|x[i]|\n",
    "        volume[i] = np.sum(np.abs(cur_frame))  # 10*np.log10(np.sum(cur_frame*cur_frame))#\n",
    "    # 置零\n",
    "    wave_old = wave_data.copy()\n",
    "    avg = np.average(abs(volume))\n",
    "    for i in range(frame_num):\n",
    "        if volume[i] < 0.6 * avg:\n",
    "            wave_data[np.arange(i * step, min(i * step + framesize, wave_len))] = 0\n",
    "    '''\n",
    "    # 切下有声部分\n",
    "    p = 0\n",
    "    q = wave_len - 1\n",
    "    while (wave_data[p] == 0):\n",
    "        p = p + 1\n",
    "    while (wave_data[q] == 0):\n",
    "        q = q - 1\n",
    "    wave_new = wave_old[p:(q + 1)].copy()\n",
    "    '''\n",
    "    return wave_data"
   ]
  },
  {
   "cell_type": "code",
   "execution_count": 44,
   "metadata": {},
   "outputs": [],
   "source": [
    "def getTemplate(path, lst, new_path):\n",
    "    y = readWav(path+lst[0])\n",
    "    X = librosa.feature.mfcc(y=y, sr=16000, n_mfcc=20)\n",
    "    \n",
    "    result = X.copy()\n",
    "    count = np.ones(X.shape[1], dtype=int)\n",
    "    \n",
    "    for i in range(1, len(lst)):\n",
    "        y = readWav(path+lst[i])\n",
    "        Y = librosa.feature.mfcc(y=y, sr=16000, n_mfcc=20)\n",
    "        D, wp = librosa.sequence.dtw(Y, X, step_sizes_sigma=np.array([[1, 0], [1, 1], [1, 2]]))\n",
    "        for j in range(wp.shape[0]):\n",
    "            result[:, wp[i][1]] = result[:, wp[i][1]] + Y[:, wp[i][0]]\n",
    "            count[wp[i][1]] = count[wp[i][1]] + 1\n",
    "    # 平均\n",
    "    for i in range(result.shape[1]):\n",
    "        result[:, i] = result[:, i] / count[i]\n",
    "    # 保存\n",
    "    np.savetxt(new_path, result, fmt='%.6f',delimiter = ',')\n",
    "    \n",
    "    return result"
   ]
  },
  {
   "cell_type": "code",
   "execution_count": 45,
   "metadata": {},
   "outputs": [],
   "source": [
    "def recongnition(wave_data, template_path_lst):\n",
    "    X = librosa.feature.mfcc(y=wave_data, sr=16000, n_mfcc=20)\n",
    "    \n",
    "    rst = []\n",
    "    for item in template_path_lst:\n",
    "        Y = np.loadtxt(item, delimiter=\",\")\n",
    "        D, wp = librosa.sequence.dtw(X, Y, step_sizes_sigma=np.array([[1, 0], [1, 1], [1, 2]]))\n",
    "        rst.append(D[wp[0][0], wp[0][1]])\n",
    "    min_value = min(rst)\n",
    "    \n",
    "    return rst.index(min_value)"
   ]
  },
  {
   "cell_type": "code",
   "execution_count": 46,
   "metadata": {},
   "outputs": [],
   "source": [
    "# template for 0, 1, ..., 9\n",
    "path_lst = ['records\\\\go\\\\', 'records\\\\stop\\\\', 'records\\\\back\\\\', 'records\\\\left\\\\', 'records\\\\right\\\\']\n",
    "lst = [['1_go.wav', '2_go.wav', '3_go.wav', '4_go.wav', '5_go.wav'],\n",
    "       ['1_stop.wav', '2_stop.wav', '3_stop.wav', '4_stop.wav', '5_stop.wav'],\n",
    "       ['1_back.wav', '2_back.wav', '3_back.wav', '4_back.wav', '5_back.wav'],\n",
    "       ['1_left.wav', '2_left.wav', '3_left.wav', '4_left.wav', '5_left.wav'],\n",
    "       ['1_right.wav', '1_right.wav', '1_right.wav', '1_right.wav', '1_right.wav']]\n",
    "template_path_lst = ['go.csv', 'stop.csv', 'back.csv', 'left.csv', 'right.csv']\n",
    "\n",
    "framesize = 100\n",
    "overlap = int(framesize / 2)\n",
    "\n",
    "for i in range(len(path_lst)):\n",
    "    getTemplate(path_lst[i], lst[i], template_path_lst[i])"
   ]
  },
  {
   "cell_type": "code",
   "execution_count": 11,
   "metadata": {},
   "outputs": [],
   "source": [
    "import serial\n",
    "ser = serial.Serial('COM6', 9600)"
   ]
  },
  {
   "cell_type": "code",
   "execution_count": 12,
   "metadata": {},
   "outputs": [],
   "source": [
    "#['前', '停', '后', '左', '右']\n",
    "command = ['f', 's', 'b', 'l', 'r']"
   ]
  },
  {
   "cell_type": "code",
   "execution_count": 60,
   "metadata": {},
   "outputs": [
    {
     "name": "stdout",
     "output_type": "stream",
     "text": [
      "* recording\n",
      "* done recording\n",
      "* save recording\n",
      "r\n"
     ]
    }
   ],
   "source": [
    "name = 'test.wav'\n",
    "recordWav(name)\n",
    "y = readWav(name)\n",
    "rst = recongnition(y, template_path_lst)\n",
    "print(command[rst])\n",
    "\n",
    "#ser.write(command[rst].encode())"
   ]
  },
  {
   "cell_type": "code",
   "execution_count": null,
   "metadata": {},
   "outputs": [],
   "source": []
  },
  {
   "cell_type": "code",
   "execution_count": 76,
   "metadata": {
    "scrolled": true
   },
   "outputs": [
    {
     "data": {
      "image/png": "[encoded data removed]",
      "text/plain": [
       "<Figure size 432x288 with 1 Axes>"
      ]
     },
     "metadata": {},
     "output_type": "display_data"
    }
   ],
   "source": [
    "name = 'records\\\\stop\\\\2_stop.wav'\n",
    "#recordWav(name)\n",
    "y = readWav(name)\n",
    "time = np.arange(0, y.shape[0]) * (1.0 / 16000)\n",
    "pl.plot(time, y)\n",
    "pl.show()\n",
    "\n",
    "#new_y = preProcess(y, y.shape[0], 50, 25)\n",
    "#time = np.arange(0, new_y.shape[0]) * (1.0 / 16000)\n",
    "#pl.plot(time, new_y)\n",
    "#pl.show()"
   ]
  },
  {
   "cell_type": "code",
   "execution_count": null,
   "metadata": {},
   "outputs": [],
   "source": []
  }
 ],
 "metadata": {
  "kernelspec": {
   "display_name": "Python 3",
   "language": "python",
   "name": "python3"
  },
  "language_info": {
   "codemirror_mode": {
    "name": "ipython",
    "version": 3
   },
   "file_extension": ".py",
   "mimetype": "text/x-python",
   "name": "python",
   "nbconvert_exporter": "python",
   "pygments_lexer": "ipython3",
   "version": "3.6.5"
  }
 },
 "nbformat": 4,
 "nbformat_minor": 2
}
