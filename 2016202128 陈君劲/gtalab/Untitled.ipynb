{
 "cells": [
  {
   "cell_type": "code",
   "execution_count": 1,
   "metadata": {},
   "outputs": [],
   "source": [
    "import numpy as np\n",
    "from PIL import ImageGrab\n",
    "import cv2\n",
    "from IPython.display import Image\n",
    "\n",
    "def process_img(image):\n",
    "    original_image = image\n",
    "    processed_img = cv2.cvtColor(image,cv2.COLOR_BGR2GRAY)\n",
    "    process_img = cv2.Canny(processed_img,threshold1 = 200, threshold2 = 300)\n",
    "    return processed_img\n",
    "\n",
    "def main( ):\n",
    "   \n",
    "    while True:\n",
    "        '''\n",
    "        printscreen_pil = ImageGrab.grab(bbox = (0,40,800,640))\n",
    "        printscreen_numpy = np.array(printscreen_pil.getdata(),dtype = 'uint8').reshape((printscreen_pil.size[1],printscreen_pil.size[0],3))\n",
    "        cv2.imshow('window',printscreen_numpy)\n",
    "        '''\n",
    "        screen = np.array(ImageGrab.grab(bbox=(0,40,800,640)))\n",
    "        new_screen = process_img(screen)\n",
    "        cv2.imshow('windows',new_screen)\n",
    "        if cv2.waitKey(25) & 0xFF == ord('q'):\n",
    "            cv2.destroyAllWindows()\n",
    "            break"
   ]
  },
  {
   "cell_type": "code",
   "execution_count": 2,
   "metadata": {},
   "outputs": [],
   "source": [
    "if __name__ == \"__main__\":\n",
    "    main()"
   ]
  },
  {
   "cell_type": "code",
   "execution_count": null,
   "metadata": {
    "collapsed": true
   },
   "outputs": [],
   "source": []
  }
 ],
 "metadata": {
  "kernelspec": {
   "display_name": "Python 3",
   "language": "python",
   "name": "python3"
  },
  "language_info": {
   "codemirror_mode": {
    "name": "ipython",
    "version": 3
   },
   "file_extension": ".py",
   "mimetype": "text/x-python",
   "name": "python",
   "nbconvert_exporter": "python",
   "pygments_lexer": "ipython3",
   "version": "3.6.2"
  }
 },
 "nbformat": 4,
 "nbformat_minor": 2
}
